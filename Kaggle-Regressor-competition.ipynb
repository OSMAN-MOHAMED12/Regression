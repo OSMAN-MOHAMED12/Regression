{
 "cells": [
  {
   "cell_type": "code",
   "execution_count": 1,
   "id": "34712cca",
   "metadata": {},
   "outputs": [],
   "source": [
    "import pandas as pd\n",
    "import numpy as np\n",
    "import tensorflow as tf\n",
    "import matplotlib.pyplot as plt"
   ]
  },
  {
   "cell_type": "code",
   "execution_count": 2,
   "id": "8dedb0f8",
   "metadata": {},
   "outputs": [
    {
     "data": {
      "text/plain": [
       "'2.11.0'"
      ]
     },
     "execution_count": 2,
     "metadata": {},
     "output_type": "execute_result"
    }
   ],
   "source": [
    "tf.__version__"
   ]
  },
  {
   "cell_type": "code",
   "execution_count": 3,
   "id": "c74a48ec",
   "metadata": {},
   "outputs": [],
   "source": [
    "dataset = pd.read_csv('train001.csv')"
   ]
  },
  {
   "cell_type": "code",
   "execution_count": 4,
   "id": "f64a6569",
   "metadata": {},
   "outputs": [],
   "source": [
    "dataset.drop(['PassengerId','Name'], axis = 1, inplace = True)"
   ]
  },
  {
   "cell_type": "code",
   "execution_count": 5,
   "id": "9f931d8d",
   "metadata": {},
   "outputs": [],
   "source": [
    "dataset['HomePlanet'].replace({np.nan:'Mars'}, inplace=True)\n",
    "dataset['CryoSleep'].replace({np.nan:'TRUE'}, inplace=True)\n",
    "dataset['Cabin'].replace({np.nan:'F/2/P'}, inplace=True)\n",
    "dataset['Destination'].replace({np.nan:'TRAPPIST-1e'}, inplace=True)\n",
    "dataset['VIP'].replace ({np.nan:'FALSE'},inplace = True)"
   ]
  },
  {
   "cell_type": "code",
   "execution_count": 6,
   "id": "c70b4b91",
   "metadata": {},
   "outputs": [],
   "source": [
    "features = ['HomePlanet','CryoSleep','Cabin','Destination','Age','VIP','RoomService','FoodCourt','ShoppingMall','Spa','VRDeck']"
   ]
  },
  {
   "cell_type": "code",
   "execution_count": 7,
   "id": "7d095e84",
   "metadata": {},
   "outputs": [],
   "source": [
    "train_x = dataset[features]"
   ]
  },
  {
   "cell_type": "code",
   "execution_count": 8,
   "id": "20a4f339",
   "metadata": {},
   "outputs": [],
   "source": [
    "characteristics = ['Transported']"
   ]
  },
  {
   "cell_type": "code",
   "execution_count": 9,
   "id": "9c7744c9",
   "metadata": {},
   "outputs": [],
   "source": [
    "train_y = dataset[characteristics]"
   ]
  },
  {
   "cell_type": "code",
   "execution_count": 10,
   "id": "ba2bfbaa",
   "metadata": {},
   "outputs": [
    {
     "name": "stderr",
     "output_type": "stream",
     "text": [
      "C:\\Users\\as\\AppData\\Local\\Temp\\ipykernel_7512\\3072672391.py:1: SettingWithCopyWarning: \n",
      "A value is trying to be set on a copy of a slice from a DataFrame\n",
      "\n",
      "See the caveats in the documentation: https://pandas.pydata.org/pandas-docs/stable/user_guide/indexing.html#returning-a-view-versus-a-copy\n",
      "  train_y['Transported'].replace({ 'FALSE':0, 'TRUE':1}, inplace=True)\n"
     ]
    }
   ],
   "source": [
    "train_y['Transported'].replace({ 'FALSE':0, 'TRUE':1}, inplace=True)"
   ]
  },
  {
   "cell_type": "code",
   "execution_count": 11,
   "id": "0b23efcd",
   "metadata": {},
   "outputs": [
    {
     "name": "stderr",
     "output_type": "stream",
     "text": [
      "C:\\Users\\as\\AppData\\Local\\Temp\\ipykernel_7512\\107063064.py:4: SettingWithCopyWarning: \n",
      "A value is trying to be set on a copy of a slice from a DataFrame.\n",
      "Try using .loc[row_indexer,col_indexer] = value instead\n",
      "\n",
      "See the caveats in the documentation: https://pandas.pydata.org/pandas-docs/stable/user_guide/indexing.html#returning-a-view-versus-a-copy\n",
      "  train_y['Transported'] = lb_make.fit_transform(train_y['Transported'])\n"
     ]
    }
   ],
   "source": [
    "from sklearn.preprocessing import LabelEncoder\n",
    "\n",
    "lb_make = LabelEncoder()\n",
    "train_y['Transported'] = lb_make.fit_transform(train_y['Transported'])"
   ]
  },
  {
   "cell_type": "code",
   "execution_count": 12,
   "id": "0530e160",
   "metadata": {},
   "outputs": [
    {
     "name": "stderr",
     "output_type": "stream",
     "text": [
      "C:\\Users\\as\\AppData\\Local\\Temp\\ipykernel_7512\\3852114972.py:1: SettingWithCopyWarning: \n",
      "A value is trying to be set on a copy of a slice from a DataFrame\n",
      "\n",
      "See the caveats in the documentation: https://pandas.pydata.org/pandas-docs/stable/user_guide/indexing.html#returning-a-view-versus-a-copy\n",
      "  train_x['CryoSleep'].replace({ 'FALSE':0, 'TRUE':1}, inplace=True)\n",
      "C:\\Users\\as\\AppData\\Local\\Temp\\ipykernel_7512\\3852114972.py:2: SettingWithCopyWarning: \n",
      "A value is trying to be set on a copy of a slice from a DataFrame\n",
      "\n",
      "See the caveats in the documentation: https://pandas.pydata.org/pandas-docs/stable/user_guide/indexing.html#returning-a-view-versus-a-copy\n",
      "  train_x['VIP'].replace({'TRUE':1,'FALSE':0}, inplace=True)\n"
     ]
    }
   ],
   "source": [
    "train_x['CryoSleep'].replace({ 'FALSE':0, 'TRUE':1}, inplace=True)\n",
    "train_x['VIP'].replace({'TRUE':1,'FALSE':0}, inplace=True)"
   ]
  },
  {
   "cell_type": "code",
   "execution_count": 13,
   "id": "46934390",
   "metadata": {},
   "outputs": [
    {
     "name": "stderr",
     "output_type": "stream",
     "text": [
      "C:\\Users\\as\\AppData\\Local\\Temp\\ipykernel_7512\\3543624025.py:4: SettingWithCopyWarning: \n",
      "A value is trying to be set on a copy of a slice from a DataFrame.\n",
      "Try using .loc[row_indexer,col_indexer] = value instead\n",
      "\n",
      "See the caveats in the documentation: https://pandas.pydata.org/pandas-docs/stable/user_guide/indexing.html#returning-a-view-versus-a-copy\n",
      "  train_x['HomePlanet'] = lb_make.fit_transform(train_x['HomePlanet'])\n",
      "C:\\Users\\as\\AppData\\Local\\Temp\\ipykernel_7512\\3543624025.py:5: SettingWithCopyWarning: \n",
      "A value is trying to be set on a copy of a slice from a DataFrame.\n",
      "Try using .loc[row_indexer,col_indexer] = value instead\n",
      "\n",
      "See the caveats in the documentation: https://pandas.pydata.org/pandas-docs/stable/user_guide/indexing.html#returning-a-view-versus-a-copy\n",
      "  train_x['Cabin'] = lb_make.fit_transform(train_x['Cabin'])\n",
      "C:\\Users\\as\\AppData\\Local\\Temp\\ipykernel_7512\\3543624025.py:6: SettingWithCopyWarning: \n",
      "A value is trying to be set on a copy of a slice from a DataFrame.\n",
      "Try using .loc[row_indexer,col_indexer] = value instead\n",
      "\n",
      "See the caveats in the documentation: https://pandas.pydata.org/pandas-docs/stable/user_guide/indexing.html#returning-a-view-versus-a-copy\n",
      "  train_x['CryoSleep'] = lb_make.fit_transform(train_x['CryoSleep'])\n",
      "C:\\Users\\as\\AppData\\Local\\Temp\\ipykernel_7512\\3543624025.py:7: SettingWithCopyWarning: \n",
      "A value is trying to be set on a copy of a slice from a DataFrame.\n",
      "Try using .loc[row_indexer,col_indexer] = value instead\n",
      "\n",
      "See the caveats in the documentation: https://pandas.pydata.org/pandas-docs/stable/user_guide/indexing.html#returning-a-view-versus-a-copy\n",
      "  train_x['Destination'] = lb_make.fit_transform(train_x['Destination'])\n",
      "C:\\Users\\as\\AppData\\Local\\Temp\\ipykernel_7512\\3543624025.py:8: SettingWithCopyWarning: \n",
      "A value is trying to be set on a copy of a slice from a DataFrame.\n",
      "Try using .loc[row_indexer,col_indexer] = value instead\n",
      "\n",
      "See the caveats in the documentation: https://pandas.pydata.org/pandas-docs/stable/user_guide/indexing.html#returning-a-view-versus-a-copy\n",
      "  train_x['VIP'] = lb_make.fit_transform(train_x['VIP'])\n"
     ]
    },
    {
     "data": {
      "text/html": [
       "<div>\n",
       "<style scoped>\n",
       "    .dataframe tbody tr th:only-of-type {\n",
       "        vertical-align: middle;\n",
       "    }\n",
       "\n",
       "    .dataframe tbody tr th {\n",
       "        vertical-align: top;\n",
       "    }\n",
       "\n",
       "    .dataframe thead th {\n",
       "        text-align: right;\n",
       "    }\n",
       "</style>\n",
       "<table border=\"1\" class=\"dataframe\">\n",
       "  <thead>\n",
       "    <tr style=\"text-align: right;\">\n",
       "      <th></th>\n",
       "      <th>HomePlanet</th>\n",
       "      <th>CryoSleep</th>\n",
       "      <th>Cabin</th>\n",
       "      <th>Destination</th>\n",
       "      <th>Age</th>\n",
       "      <th>VIP</th>\n",
       "      <th>RoomService</th>\n",
       "      <th>FoodCourt</th>\n",
       "      <th>ShoppingMall</th>\n",
       "      <th>Spa</th>\n",
       "      <th>VRDeck</th>\n",
       "    </tr>\n",
       "  </thead>\n",
       "  <tbody>\n",
       "    <tr>\n",
       "      <th>0</th>\n",
       "      <td>1</td>\n",
       "      <td>0</td>\n",
       "      <td>149</td>\n",
       "      <td>2</td>\n",
       "      <td>39.0</td>\n",
       "      <td>0</td>\n",
       "      <td>0.0</td>\n",
       "      <td>0.0</td>\n",
       "      <td>0.0</td>\n",
       "      <td>0.0</td>\n",
       "      <td>0.0</td>\n",
       "    </tr>\n",
       "    <tr>\n",
       "      <th>1</th>\n",
       "      <td>0</td>\n",
       "      <td>0</td>\n",
       "      <td>2184</td>\n",
       "      <td>2</td>\n",
       "      <td>24.0</td>\n",
       "      <td>0</td>\n",
       "      <td>109.0</td>\n",
       "      <td>9.0</td>\n",
       "      <td>25.0</td>\n",
       "      <td>549.0</td>\n",
       "      <td>44.0</td>\n",
       "    </tr>\n",
       "    <tr>\n",
       "      <th>2</th>\n",
       "      <td>1</td>\n",
       "      <td>0</td>\n",
       "      <td>1</td>\n",
       "      <td>2</td>\n",
       "      <td>58.0</td>\n",
       "      <td>1</td>\n",
       "      <td>43.0</td>\n",
       "      <td>3576.0</td>\n",
       "      <td>0.0</td>\n",
       "      <td>6715.0</td>\n",
       "      <td>49.0</td>\n",
       "    </tr>\n",
       "    <tr>\n",
       "      <th>3</th>\n",
       "      <td>1</td>\n",
       "      <td>0</td>\n",
       "      <td>1</td>\n",
       "      <td>2</td>\n",
       "      <td>33.0</td>\n",
       "      <td>0</td>\n",
       "      <td>0.0</td>\n",
       "      <td>1283.0</td>\n",
       "      <td>371.0</td>\n",
       "      <td>3329.0</td>\n",
       "      <td>193.0</td>\n",
       "    </tr>\n",
       "    <tr>\n",
       "      <th>4</th>\n",
       "      <td>0</td>\n",
       "      <td>0</td>\n",
       "      <td>2186</td>\n",
       "      <td>2</td>\n",
       "      <td>16.0</td>\n",
       "      <td>0</td>\n",
       "      <td>303.0</td>\n",
       "      <td>70.0</td>\n",
       "      <td>151.0</td>\n",
       "      <td>565.0</td>\n",
       "      <td>2.0</td>\n",
       "    </tr>\n",
       "  </tbody>\n",
       "</table>\n",
       "</div>"
      ],
      "text/plain": [
       "   HomePlanet  CryoSleep  Cabin  Destination   Age  VIP  RoomService  \\\n",
       "0           1          0    149            2  39.0    0          0.0   \n",
       "1           0          0   2184            2  24.0    0        109.0   \n",
       "2           1          0      1            2  58.0    1         43.0   \n",
       "3           1          0      1            2  33.0    0          0.0   \n",
       "4           0          0   2186            2  16.0    0        303.0   \n",
       "\n",
       "   FoodCourt  ShoppingMall     Spa  VRDeck  \n",
       "0        0.0           0.0     0.0     0.0  \n",
       "1        9.0          25.0   549.0    44.0  \n",
       "2     3576.0           0.0  6715.0    49.0  \n",
       "3     1283.0         371.0  3329.0   193.0  \n",
       "4       70.0         151.0   565.0     2.0  "
      ]
     },
     "execution_count": 13,
     "metadata": {},
     "output_type": "execute_result"
    }
   ],
   "source": [
    "from sklearn.preprocessing import LabelEncoder\n",
    "\n",
    "lb_make = LabelEncoder()\n",
    "train_x['HomePlanet'] = lb_make.fit_transform(train_x['HomePlanet'])\n",
    "train_x['Cabin'] = lb_make.fit_transform(train_x['Cabin'])\n",
    "train_x['CryoSleep'] = lb_make.fit_transform(train_x['CryoSleep'])\n",
    "train_x['Destination'] = lb_make.fit_transform(train_x['Destination'])\n",
    "train_x['VIP'] = lb_make.fit_transform(train_x['VIP'])\n",
    "\n",
    "train_x.head() #Results in appending a new column to df"
   ]
  },
  {
   "cell_type": "code",
   "execution_count": 14,
   "id": "017fe917",
   "metadata": {},
   "outputs": [
    {
     "name": "stderr",
     "output_type": "stream",
     "text": [
      "C:\\Users\\as\\AppData\\Local\\Temp\\ipykernel_7512\\917740912.py:1: SettingWithCopyWarning: \n",
      "A value is trying to be set on a copy of a slice from a DataFrame.\n",
      "Try using .loc[row_indexer,col_indexer] = value instead\n",
      "\n",
      "See the caveats in the documentation: https://pandas.pydata.org/pandas-docs/stable/user_guide/indexing.html#returning-a-view-versus-a-copy\n",
      "  train_x.fillna(train_x.mean(numeric_only=True).round(1), inplace=True)\n"
     ]
    }
   ],
   "source": [
    "train_x.fillna(train_x.mean(numeric_only=True).round(1), inplace=True)"
   ]
  },
  {
   "cell_type": "code",
   "execution_count": 15,
   "id": "061d841b",
   "metadata": {},
   "outputs": [],
   "source": [
    "from sklearn.preprocessing import StandardScaler\n",
    "sc = StandardScaler()\n",
    "train_x = sc.fit_transform(train_x)"
   ]
  },
  {
   "cell_type": "code",
   "execution_count": 16,
   "id": "58c8e6a7",
   "metadata": {},
   "outputs": [],
   "source": [
    "ann = tf.keras.models.Sequential()"
   ]
  },
  {
   "cell_type": "code",
   "execution_count": 17,
   "id": "a752e434",
   "metadata": {},
   "outputs": [],
   "source": [
    "ann.add(tf.keras.layers.Dense(units=100, activation='relu'))"
   ]
  },
  {
   "cell_type": "code",
   "execution_count": 18,
   "id": "9bc4b2ce",
   "metadata": {},
   "outputs": [],
   "source": [
    "ann.add(tf.keras.layers.Dense(units = 100, activation = 'relu'))"
   ]
  },
  {
   "cell_type": "code",
   "execution_count": 19,
   "id": "0675ac79",
   "metadata": {},
   "outputs": [],
   "source": [
    "ann.add(tf.keras.layers.Dense(units = 1, activation = 'sigmoid'))"
   ]
  },
  {
   "cell_type": "code",
   "execution_count": 20,
   "id": "43f9ebf6",
   "metadata": {},
   "outputs": [],
   "source": [
    "ann.compile(optimizer = 'adam', loss = 'binary_crossentropy', metrics = ['accuracy'])"
   ]
  },
  {
   "cell_type": "code",
   "execution_count": 21,
   "id": "b75bfa6c",
   "metadata": {},
   "outputs": [
    {
     "name": "stdout",
     "output_type": "stream",
     "text": [
      "Epoch 1/100\n",
      "272/272 [==============================] - 6s 4ms/step - loss: 0.4730 - accuracy: 0.7748\n",
      "Epoch 2/100\n",
      "272/272 [==============================] - 1s 3ms/step - loss: 0.4404 - accuracy: 0.7876\n",
      "Epoch 3/100\n",
      "272/272 [==============================] - 1s 3ms/step - loss: 0.4312 - accuracy: 0.7917\n",
      "Epoch 4/100\n",
      "272/272 [==============================] - 1s 4ms/step - loss: 0.4274 - accuracy: 0.7959\n",
      "Epoch 5/100\n",
      "272/272 [==============================] - 1s 4ms/step - loss: 0.4239 - accuracy: 0.7975\n",
      "Epoch 6/100\n",
      "272/272 [==============================] - 1s 4ms/step - loss: 0.4222 - accuracy: 0.7958\n",
      "Epoch 7/100\n",
      "272/272 [==============================] - 1s 4ms/step - loss: 0.4193 - accuracy: 0.7994\n",
      "Epoch 8/100\n",
      "272/272 [==============================] - 1s 5ms/step - loss: 0.4177 - accuracy: 0.7987\n",
      "Epoch 9/100\n",
      "272/272 [==============================] - 1s 4ms/step - loss: 0.4136 - accuracy: 0.7977\n",
      "Epoch 10/100\n",
      "272/272 [==============================] - 1s 3ms/step - loss: 0.4133 - accuracy: 0.7990\n",
      "Epoch 11/100\n",
      "272/272 [==============================] - 1s 3ms/step - loss: 0.4113 - accuracy: 0.7994\n",
      "Epoch 12/100\n",
      "272/272 [==============================] - 1s 4ms/step - loss: 0.4089 - accuracy: 0.8014\n",
      "Epoch 13/100\n",
      "272/272 [==============================] - 1s 4ms/step - loss: 0.4079 - accuracy: 0.8027\n",
      "Epoch 14/100\n",
      "272/272 [==============================] - 1s 4ms/step - loss: 0.4069 - accuracy: 0.8019\n",
      "Epoch 15/100\n",
      "272/272 [==============================] - 1s 3ms/step - loss: 0.4037 - accuracy: 0.8034\n",
      "Epoch 16/100\n",
      "272/272 [==============================] - 1s 3ms/step - loss: 0.4029 - accuracy: 0.8027\n",
      "Epoch 17/100\n",
      "272/272 [==============================] - 1s 4ms/step - loss: 0.4020 - accuracy: 0.8049\n",
      "Epoch 18/100\n",
      "272/272 [==============================] - 1s 4ms/step - loss: 0.4018 - accuracy: 0.8044\n",
      "Epoch 19/100\n",
      "272/272 [==============================] - 1s 4ms/step - loss: 0.3996 - accuracy: 0.8061\n",
      "Epoch 20/100\n",
      "272/272 [==============================] - 1s 4ms/step - loss: 0.3980 - accuracy: 0.8075\n",
      "Epoch 21/100\n",
      "272/272 [==============================] - 1s 4ms/step - loss: 0.3960 - accuracy: 0.8072\n",
      "Epoch 22/100\n",
      "272/272 [==============================] - 1s 4ms/step - loss: 0.3959 - accuracy: 0.8058\n",
      "Epoch 23/100\n",
      "272/272 [==============================] - 1s 3ms/step - loss: 0.3940 - accuracy: 0.8088\n",
      "Epoch 24/100\n",
      "272/272 [==============================] - 1s 3ms/step - loss: 0.3929 - accuracy: 0.8064\n",
      "Epoch 25/100\n",
      "272/272 [==============================] - 1s 3ms/step - loss: 0.3915 - accuracy: 0.8092\n",
      "Epoch 26/100\n",
      "272/272 [==============================] - 1s 3ms/step - loss: 0.3917 - accuracy: 0.8082\n",
      "Epoch 27/100\n",
      "272/272 [==============================] - 1s 3ms/step - loss: 0.3882 - accuracy: 0.8138\n",
      "Epoch 28/100\n",
      "272/272 [==============================] - 1s 3ms/step - loss: 0.3887 - accuracy: 0.8103\n",
      "Epoch 29/100\n",
      "272/272 [==============================] - 1s 3ms/step - loss: 0.3864 - accuracy: 0.8108\n",
      "Epoch 30/100\n",
      "272/272 [==============================] - 1s 4ms/step - loss: 0.3848 - accuracy: 0.8144\n",
      "Epoch 31/100\n",
      "272/272 [==============================] - 1s 4ms/step - loss: 0.3843 - accuracy: 0.8136\n",
      "Epoch 32/100\n",
      "272/272 [==============================] - 1s 4ms/step - loss: 0.3825 - accuracy: 0.8132\n",
      "Epoch 33/100\n",
      "272/272 [==============================] - 1s 4ms/step - loss: 0.3834 - accuracy: 0.8147\n",
      "Epoch 34/100\n",
      "272/272 [==============================] - 1s 4ms/step - loss: 0.3804 - accuracy: 0.8159\n",
      "Epoch 35/100\n",
      "272/272 [==============================] - 1s 4ms/step - loss: 0.3787 - accuracy: 0.8151\n",
      "Epoch 36/100\n",
      "272/272 [==============================] - 1s 4ms/step - loss: 0.3793 - accuracy: 0.8172\n",
      "Epoch 37/100\n",
      "272/272 [==============================] - 1s 4ms/step - loss: 0.3781 - accuracy: 0.8167\n",
      "Epoch 38/100\n",
      "272/272 [==============================] - 1s 4ms/step - loss: 0.3760 - accuracy: 0.8180\n",
      "Epoch 39/100\n",
      "272/272 [==============================] - 1s 4ms/step - loss: 0.3763 - accuracy: 0.8188\n",
      "Epoch 40/100\n",
      "272/272 [==============================] - 1s 3ms/step - loss: 0.3754 - accuracy: 0.8166\n",
      "Epoch 41/100\n",
      "272/272 [==============================] - 1s 3ms/step - loss: 0.3738 - accuracy: 0.8171\n",
      "Epoch 42/100\n",
      "272/272 [==============================] - 1s 3ms/step - loss: 0.3725 - accuracy: 0.8185\n",
      "Epoch 43/100\n",
      "272/272 [==============================] - 1s 3ms/step - loss: 0.3710 - accuracy: 0.8205\n",
      "Epoch 44/100\n",
      "272/272 [==============================] - 1s 4ms/step - loss: 0.3701 - accuracy: 0.8199\n",
      "Epoch 45/100\n",
      "272/272 [==============================] - 1s 4ms/step - loss: 0.3687 - accuracy: 0.8224\n",
      "Epoch 46/100\n",
      "272/272 [==============================] - 1s 4ms/step - loss: 0.3690 - accuracy: 0.8222\n",
      "Epoch 47/100\n",
      "272/272 [==============================] - 1s 5ms/step - loss: 0.3680 - accuracy: 0.8222\n",
      "Epoch 48/100\n",
      "272/272 [==============================] - 1s 5ms/step - loss: 0.3671 - accuracy: 0.8185\n",
      "Epoch 49/100\n",
      "272/272 [==============================] - 1s 4ms/step - loss: 0.3652 - accuracy: 0.8218\n",
      "Epoch 50/100\n",
      "272/272 [==============================] - 1s 4ms/step - loss: 0.3641 - accuracy: 0.8230\n",
      "Epoch 51/100\n",
      "272/272 [==============================] - 1s 4ms/step - loss: 0.3640 - accuracy: 0.8240\n",
      "Epoch 52/100\n",
      "272/272 [==============================] - 1s 4ms/step - loss: 0.3646 - accuracy: 0.8243\n",
      "Epoch 53/100\n",
      "272/272 [==============================] - 1s 4ms/step - loss: 0.3619 - accuracy: 0.8246\n",
      "Epoch 54/100\n",
      "272/272 [==============================] - 1s 5ms/step - loss: 0.3594 - accuracy: 0.8254\n",
      "Epoch 55/100\n",
      "272/272 [==============================] - 1s 5ms/step - loss: 0.3612 - accuracy: 0.8258\n",
      "Epoch 56/100\n",
      "272/272 [==============================] - 1s 4ms/step - loss: 0.3603 - accuracy: 0.8273\n",
      "Epoch 57/100\n",
      "272/272 [==============================] - 1s 4ms/step - loss: 0.3561 - accuracy: 0.8287\n",
      "Epoch 58/100\n",
      "272/272 [==============================] - 1s 4ms/step - loss: 0.3569 - accuracy: 0.8284\n",
      "Epoch 59/100\n",
      "272/272 [==============================] - 1s 5ms/step - loss: 0.3552 - accuracy: 0.8294\n",
      "Epoch 60/100\n",
      "272/272 [==============================] - 1s 5ms/step - loss: 0.3556 - accuracy: 0.8315\n",
      "Epoch 61/100\n",
      "272/272 [==============================] - 1s 5ms/step - loss: 0.3534 - accuracy: 0.8281\n",
      "Epoch 62/100\n",
      "272/272 [==============================] - 1s 4ms/step - loss: 0.3536 - accuracy: 0.8262\n",
      "Epoch 63/100\n",
      "272/272 [==============================] - 1s 4ms/step - loss: 0.3519 - accuracy: 0.8300\n",
      "Epoch 64/100\n",
      "272/272 [==============================] - 1s 4ms/step - loss: 0.3497 - accuracy: 0.8297\n",
      "Epoch 65/100\n",
      "272/272 [==============================] - 1s 4ms/step - loss: 0.3508 - accuracy: 0.8300\n",
      "Epoch 66/100\n",
      "272/272 [==============================] - 1s 4ms/step - loss: 0.3519 - accuracy: 0.8284\n",
      "Epoch 67/100\n",
      "272/272 [==============================] - 1s 4ms/step - loss: 0.3519 - accuracy: 0.8238\n",
      "Epoch 68/100\n",
      "272/272 [==============================] - 1s 4ms/step - loss: 0.3481 - accuracy: 0.8302\n",
      "Epoch 69/100\n",
      "272/272 [==============================] - 1s 4ms/step - loss: 0.3478 - accuracy: 0.8332\n",
      "Epoch 70/100\n",
      "272/272 [==============================] - 1s 4ms/step - loss: 0.3469 - accuracy: 0.8319\n",
      "Epoch 71/100\n",
      "272/272 [==============================] - 1s 4ms/step - loss: 0.3462 - accuracy: 0.8331\n",
      "Epoch 72/100\n",
      "272/272 [==============================] - 1s 4ms/step - loss: 0.3447 - accuracy: 0.8317\n",
      "Epoch 73/100\n",
      "272/272 [==============================] - 1s 4ms/step - loss: 0.3425 - accuracy: 0.8371\n",
      "Epoch 74/100\n",
      "272/272 [==============================] - 1s 5ms/step - loss: 0.3438 - accuracy: 0.8330\n",
      "Epoch 75/100\n",
      "272/272 [==============================] - 1s 5ms/step - loss: 0.3428 - accuracy: 0.8342\n",
      "Epoch 76/100\n",
      "272/272 [==============================] - 1s 4ms/step - loss: 0.3416 - accuracy: 0.8378\n",
      "Epoch 77/100\n",
      "272/272 [==============================] - 1s 4ms/step - loss: 0.3423 - accuracy: 0.8345\n",
      "Epoch 78/100\n",
      "272/272 [==============================] - 1s 3ms/step - loss: 0.3409 - accuracy: 0.8355\n",
      "Epoch 79/100\n",
      "272/272 [==============================] - 1s 4ms/step - loss: 0.3387 - accuracy: 0.8349\n",
      "Epoch 80/100\n",
      "272/272 [==============================] - 1s 3ms/step - loss: 0.3402 - accuracy: 0.8341\n",
      "Epoch 81/100\n",
      "272/272 [==============================] - 1s 4ms/step - loss: 0.3368 - accuracy: 0.8384\n",
      "Epoch 82/100\n",
      "272/272 [==============================] - 1s 3ms/step - loss: 0.3378 - accuracy: 0.8360\n",
      "Epoch 83/100\n",
      "272/272 [==============================] - 1s 3ms/step - loss: 0.3380 - accuracy: 0.8368\n",
      "Epoch 84/100\n",
      "272/272 [==============================] - 1s 4ms/step - loss: 0.3341 - accuracy: 0.8367\n",
      "Epoch 85/100\n",
      "272/272 [==============================] - 1s 3ms/step - loss: 0.3363 - accuracy: 0.8396\n",
      "Epoch 86/100\n",
      "272/272 [==============================] - 1s 5ms/step - loss: 0.3333 - accuracy: 0.8419\n",
      "Epoch 87/100\n",
      "272/272 [==============================] - 1s 4ms/step - loss: 0.3332 - accuracy: 0.8400\n",
      "Epoch 88/100\n",
      "272/272 [==============================] - 1s 3ms/step - loss: 0.3340 - accuracy: 0.8370\n",
      "Epoch 89/100\n",
      "272/272 [==============================] - 1s 3ms/step - loss: 0.3334 - accuracy: 0.8396\n",
      "Epoch 90/100\n",
      "272/272 [==============================] - 1s 4ms/step - loss: 0.3329 - accuracy: 0.8388\n",
      "Epoch 91/100\n",
      "272/272 [==============================] - 1s 4ms/step - loss: 0.3310 - accuracy: 0.8398\n",
      "Epoch 92/100\n",
      "272/272 [==============================] - 1s 5ms/step - loss: 0.3311 - accuracy: 0.8429\n",
      "Epoch 93/100\n",
      "272/272 [==============================] - 1s 4ms/step - loss: 0.3298 - accuracy: 0.8385\n",
      "Epoch 94/100\n",
      "272/272 [==============================] - 1s 3ms/step - loss: 0.3286 - accuracy: 0.8424\n",
      "Epoch 95/100\n",
      "272/272 [==============================] - 1s 4ms/step - loss: 0.3307 - accuracy: 0.8437\n",
      "Epoch 96/100\n",
      "272/272 [==============================] - 1s 4ms/step - loss: 0.3270 - accuracy: 0.8424\n",
      "Epoch 97/100\n",
      "272/272 [==============================] - 1s 4ms/step - loss: 0.3282 - accuracy: 0.8430\n",
      "Epoch 98/100\n",
      "272/272 [==============================] - 1s 4ms/step - loss: 0.3271 - accuracy: 0.8465\n",
      "Epoch 99/100\n",
      "272/272 [==============================] - 1s 4ms/step - loss: 0.3268 - accuracy: 0.8440\n",
      "Epoch 100/100\n",
      "272/272 [==============================] - 1s 3ms/step - loss: 0.3264 - accuracy: 0.8437\n"
     ]
    },
    {
     "data": {
      "text/plain": [
       "<keras.callbacks.History at 0x2047baaef40>"
      ]
     },
     "execution_count": 21,
     "metadata": {},
     "output_type": "execute_result"
    }
   ],
   "source": [
    "ann.fit(train_x, train_y, batch_size = 32, epochs = 100)"
   ]
  },
  {
   "cell_type": "code",
   "execution_count": 28,
   "id": "85efefe8",
   "metadata": {},
   "outputs": [
    {
     "name": "stdout",
     "output_type": "stream",
     "text": [
      "<class 'pandas.core.frame.DataFrame'>\n",
      "RangeIndex: 4277 entries, 0 to 4276\n",
      "Data columns (total 13 columns):\n",
      " #   Column        Non-Null Count  Dtype  \n",
      "---  ------        --------------  -----  \n",
      " 0   PassengerId   4277 non-null   object \n",
      " 1   HomePlanet    4190 non-null   object \n",
      " 2   CryoSleep     4184 non-null   object \n",
      " 3   Cabin         4177 non-null   object \n",
      " 4   Destination   4185 non-null   object \n",
      " 5   Age           4186 non-null   float64\n",
      " 6   VIP           4184 non-null   object \n",
      " 7   RoomService   4195 non-null   float64\n",
      " 8   FoodCourt     4171 non-null   float64\n",
      " 9   ShoppingMall  4179 non-null   float64\n",
      " 10  Spa           4176 non-null   float64\n",
      " 11  VRDeck        4197 non-null   float64\n",
      " 12  Name          4183 non-null   object \n",
      "dtypes: float64(6), object(7)\n",
      "memory usage: 434.5+ KB\n"
     ]
    }
   ],
   "source": [
    "test_set = pd.read_csv('test.csv')\n",
    "test_set.info()"
   ]
  },
  {
   "cell_type": "code",
   "execution_count": 29,
   "id": "5cbdb89f",
   "metadata": {},
   "outputs": [
    {
     "name": "stdout",
     "output_type": "stream",
     "text": [
      "<class 'pandas.core.frame.DataFrame'>\n",
      "RangeIndex: 4277 entries, 0 to 4276\n",
      "Data columns (total 11 columns):\n",
      " #   Column        Non-Null Count  Dtype  \n",
      "---  ------        --------------  -----  \n",
      " 0   HomePlanet    4190 non-null   object \n",
      " 1   CryoSleep     4184 non-null   object \n",
      " 2   Cabin         4177 non-null   object \n",
      " 3   Destination   4185 non-null   object \n",
      " 4   Age           4186 non-null   float64\n",
      " 5   VIP           4184 non-null   object \n",
      " 6   RoomService   4195 non-null   float64\n",
      " 7   FoodCourt     4171 non-null   float64\n",
      " 8   ShoppingMall  4179 non-null   float64\n",
      " 9   Spa           4176 non-null   float64\n",
      " 10  VRDeck        4197 non-null   float64\n",
      "dtypes: float64(6), object(5)\n",
      "memory usage: 367.7+ KB\n"
     ]
    }
   ],
   "source": [
    "test_set.drop(['PassengerId','Name'], axis = 1, inplace = True)\n",
    "test_set.info()"
   ]
  },
  {
   "cell_type": "code",
   "execution_count": 31,
   "id": "6beebe8d",
   "metadata": {},
   "outputs": [],
   "source": [
    "test_set['HomePlanet'].replace({np.nan:'Mars'}, inplace=True)\n",
    "test_set['CryoSleep'].replace({np.nan:'TRUE'}, inplace=True)\n",
    "test_set['Cabin'].replace({np.nan:'F/2/P'}, inplace=True)\n",
    "test_set['Destination'].replace({np.nan:'TRAPPIST-1e'}, inplace=True)\n",
    "test_set['VIP'].replace ({np.nan:'FALSE'},inplace = True)"
   ]
  },
  {
   "cell_type": "code",
   "execution_count": 32,
   "id": "8146361e",
   "metadata": {},
   "outputs": [],
   "source": [
    "characteristics = ['HomePlanet','CryoSleep','Cabin','Destination','Age','VIP','RoomService','FoodCourt','ShoppingMall','Spa','VRDeck']"
   ]
  },
  {
   "cell_type": "code",
   "execution_count": 33,
   "id": "d4a43e2e",
   "metadata": {},
   "outputs": [],
   "source": [
    "testing_set = test_set[characteristics]"
   ]
  },
  {
   "cell_type": "code",
   "execution_count": 34,
   "id": "e98061a5",
   "metadata": {},
   "outputs": [],
   "source": [
    "testing_set['CryoSleep'].replace({ 'FALSE':0, 'TRUE':1}, inplace=True)\n",
    "testing_set['VIP'].replace({'TRUE':1,'FALSE':0}, inplace=True)"
   ]
  },
  {
   "cell_type": "code",
   "execution_count": 35,
   "id": "d1fdf584",
   "metadata": {},
   "outputs": [
    {
     "data": {
      "text/html": [
       "<div>\n",
       "<style scoped>\n",
       "    .dataframe tbody tr th:only-of-type {\n",
       "        vertical-align: middle;\n",
       "    }\n",
       "\n",
       "    .dataframe tbody tr th {\n",
       "        vertical-align: top;\n",
       "    }\n",
       "\n",
       "    .dataframe thead th {\n",
       "        text-align: right;\n",
       "    }\n",
       "</style>\n",
       "<table border=\"1\" class=\"dataframe\">\n",
       "  <thead>\n",
       "    <tr style=\"text-align: right;\">\n",
       "      <th></th>\n",
       "      <th>HomePlanet</th>\n",
       "      <th>CryoSleep</th>\n",
       "      <th>Cabin</th>\n",
       "      <th>Destination</th>\n",
       "      <th>Age</th>\n",
       "      <th>VIP</th>\n",
       "      <th>RoomService</th>\n",
       "      <th>FoodCourt</th>\n",
       "      <th>ShoppingMall</th>\n",
       "      <th>Spa</th>\n",
       "      <th>VRDeck</th>\n",
       "    </tr>\n",
       "  </thead>\n",
       "  <tbody>\n",
       "    <tr>\n",
       "      <th>0</th>\n",
       "      <td>0</td>\n",
       "      <td>1</td>\n",
       "      <td>2785</td>\n",
       "      <td>2</td>\n",
       "      <td>27.0</td>\n",
       "      <td>0</td>\n",
       "      <td>0.0</td>\n",
       "      <td>0.0</td>\n",
       "      <td>0.0</td>\n",
       "      <td>0.0</td>\n",
       "      <td>0.0</td>\n",
       "    </tr>\n",
       "    <tr>\n",
       "      <th>1</th>\n",
       "      <td>0</td>\n",
       "      <td>0</td>\n",
       "      <td>1868</td>\n",
       "      <td>2</td>\n",
       "      <td>19.0</td>\n",
       "      <td>0</td>\n",
       "      <td>0.0</td>\n",
       "      <td>9.0</td>\n",
       "      <td>0.0</td>\n",
       "      <td>2823.0</td>\n",
       "      <td>0.0</td>\n",
       "    </tr>\n",
       "    <tr>\n",
       "      <th>2</th>\n",
       "      <td>1</td>\n",
       "      <td>1</td>\n",
       "      <td>257</td>\n",
       "      <td>0</td>\n",
       "      <td>31.0</td>\n",
       "      <td>0</td>\n",
       "      <td>0.0</td>\n",
       "      <td>0.0</td>\n",
       "      <td>0.0</td>\n",
       "      <td>0.0</td>\n",
       "      <td>0.0</td>\n",
       "    </tr>\n",
       "    <tr>\n",
       "      <th>3</th>\n",
       "      <td>1</td>\n",
       "      <td>0</td>\n",
       "      <td>259</td>\n",
       "      <td>2</td>\n",
       "      <td>38.0</td>\n",
       "      <td>0</td>\n",
       "      <td>0.0</td>\n",
       "      <td>6652.0</td>\n",
       "      <td>0.0</td>\n",
       "      <td>181.0</td>\n",
       "      <td>585.0</td>\n",
       "    </tr>\n",
       "    <tr>\n",
       "      <th>4</th>\n",
       "      <td>0</td>\n",
       "      <td>0</td>\n",
       "      <td>1941</td>\n",
       "      <td>2</td>\n",
       "      <td>20.0</td>\n",
       "      <td>0</td>\n",
       "      <td>10.0</td>\n",
       "      <td>0.0</td>\n",
       "      <td>635.0</td>\n",
       "      <td>0.0</td>\n",
       "      <td>0.0</td>\n",
       "    </tr>\n",
       "  </tbody>\n",
       "</table>\n",
       "</div>"
      ],
      "text/plain": [
       "   HomePlanet  CryoSleep  Cabin  Destination   Age  VIP  RoomService  \\\n",
       "0           0          1   2785            2  27.0    0          0.0   \n",
       "1           0          0   1868            2  19.0    0          0.0   \n",
       "2           1          1    257            0  31.0    0          0.0   \n",
       "3           1          0    259            2  38.0    0          0.0   \n",
       "4           0          0   1941            2  20.0    0         10.0   \n",
       "\n",
       "   FoodCourt  ShoppingMall     Spa  VRDeck  \n",
       "0        0.0           0.0     0.0     0.0  \n",
       "1        9.0           0.0  2823.0     0.0  \n",
       "2        0.0           0.0     0.0     0.0  \n",
       "3     6652.0           0.0   181.0   585.0  \n",
       "4        0.0         635.0     0.0     0.0  "
      ]
     },
     "execution_count": 35,
     "metadata": {},
     "output_type": "execute_result"
    }
   ],
   "source": [
    "from sklearn.preprocessing import LabelEncoder\n",
    "\n",
    "lb_make = LabelEncoder()\n",
    "testing_set['HomePlanet'] = lb_make.fit_transform(testing_set['HomePlanet'])\n",
    "testing_set['Cabin'] = lb_make.fit_transform(testing_set['Cabin'])\n",
    "testing_set['CryoSleep'] = lb_make.fit_transform(testing_set['CryoSleep'])\n",
    "testing_set['Destination'] = lb_make.fit_transform(testing_set['Destination'])\n",
    "testing_set['VIP'] = lb_make.fit_transform(testing_set['VIP'])\n",
    "\n",
    "testing_set.head() #Results in appending a new column to df"
   ]
  },
  {
   "cell_type": "code",
   "execution_count": 36,
   "id": "e7c55c97",
   "metadata": {},
   "outputs": [],
   "source": [
    "testing_set.fillna(testing_set.mean(numeric_only=True).round(1), inplace=True)"
   ]
  },
  {
   "cell_type": "code",
   "execution_count": 37,
   "id": "2c20ba93",
   "metadata": {},
   "outputs": [
    {
     "name": "stdout",
     "output_type": "stream",
     "text": [
      "<class 'pandas.core.frame.DataFrame'>\n",
      "RangeIndex: 4277 entries, 0 to 4276\n",
      "Data columns (total 11 columns):\n",
      " #   Column        Non-Null Count  Dtype  \n",
      "---  ------        --------------  -----  \n",
      " 0   HomePlanet    4277 non-null   int32  \n",
      " 1   CryoSleep     4277 non-null   int32  \n",
      " 2   Cabin         4277 non-null   int32  \n",
      " 3   Destination   4277 non-null   int32  \n",
      " 4   Age           4277 non-null   float64\n",
      " 5   VIP           4277 non-null   int32  \n",
      " 6   RoomService   4277 non-null   float64\n",
      " 7   FoodCourt     4277 non-null   float64\n",
      " 8   ShoppingMall  4277 non-null   float64\n",
      " 9   Spa           4277 non-null   float64\n",
      " 10  VRDeck        4277 non-null   float64\n",
      "dtypes: float64(6), int32(5)\n",
      "memory usage: 284.1 KB\n"
     ]
    }
   ],
   "source": [
    "testing_set.info()"
   ]
  },
  {
   "cell_type": "code",
   "execution_count": 38,
   "id": "dea94698",
   "metadata": {},
   "outputs": [
    {
     "name": "stdout",
     "output_type": "stream",
     "text": [
      "134/134 [==============================] - 1s 4ms/step\n"
     ]
    }
   ],
   "source": [
    "y_pred = ann.predict(testing_set)\n",
    "y_pred = (y_pred > 0.5)"
   ]
  },
  {
   "cell_type": "code",
   "execution_count": 39,
   "id": "05e3b89b",
   "metadata": {},
   "outputs": [],
   "source": [
    "pd.DataFrame(y_pred).to_csv('hayeey_2.csv')"
   ]
  },
  {
   "cell_type": "code",
   "execution_count": 40,
   "id": "7e12895d",
   "metadata": {},
   "outputs": [
    {
     "name": "stdout",
     "output_type": "stream",
     "text": [
      "<class 'pandas.core.frame.DataFrame'>\n",
      "RangeIndex: 8693 entries, 0 to 8692\n",
      "Data columns (total 1 columns):\n",
      " #   Column       Non-Null Count  Dtype\n",
      "---  ------       --------------  -----\n",
      " 0   Transported  8693 non-null   int64\n",
      "dtypes: int64(1)\n",
      "memory usage: 68.0 KB\n"
     ]
    }
   ],
   "source": [
    "train_y.info()"
   ]
  },
  {
   "cell_type": "code",
   "execution_count": null,
   "id": "20e7aba4",
   "metadata": {},
   "outputs": [],
   "source": []
  }
 ],
 "metadata": {
  "kernelspec": {
   "display_name": "Python 3 (ipykernel)",
   "language": "python",
   "name": "python3"
  },
  "language_info": {
   "codemirror_mode": {
    "name": "ipython",
    "version": 3
   },
   "file_extension": ".py",
   "mimetype": "text/x-python",
   "name": "python",
   "nbconvert_exporter": "python",
   "pygments_lexer": "ipython3",
   "version": "3.10.9"
  }
 },
 "nbformat": 4,
 "nbformat_minor": 5
}
